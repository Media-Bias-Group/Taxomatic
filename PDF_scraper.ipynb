{
 "cells": [
  {
   "cell_type": "code",
   "execution_count": 15,
   "metadata": {},
   "outputs": [],
   "source": [
    "import pandas as pd\n",
    "import requests, json\n",
    "import os\n",
    "from tqdm import tqdm\n",
    "import matplotlib.pyplot as plt\n",
    "import numpy as np\n",
    "from time import sleep"
   ]
  },
  {
   "cell_type": "markdown",
   "metadata": {},
   "source": [
    "## Statistics count of scraped papers"
   ]
  },
  {
   "cell_type": "code",
   "execution_count": null,
   "metadata": {},
   "outputs": [],
   "source": [
    "allpapers = pd.read_csv('all_words.csv')\n",
    "allpapers.drop(allpapers.columns[[0]], axis=1, inplace=True)\n",
    "print('N of papers in total:', len(allpapers))\n",
    "allpapers.head(3)"
   ]
  },
  {
   "cell_type": "code",
   "execution_count": null,
   "metadata": {},
   "outputs": [],
   "source": [
    "# Plot distribution of citationCount\n",
    "\n",
    "filtered_access = allpapers[allpapers['isOpenAccess'] == True]\n",
    "\n",
    "plt.hist(filtered_access['citationCount'], bins=50, range=(0, 700), color='skyblue', edgecolor='black')\n",
    "plt.title('Distribution of citationCount')\n",
    "plt.xlabel('citationCount')\n",
    "plt.ylabel('Frequency')\n",
    "plt.xlim(0, 700) \n",
    "plt.show()"
   ]
  },
  {
   "cell_type": "code",
   "execution_count": null,
   "metadata": {},
   "outputs": [],
   "source": [
    "# how many papers with more than 50 citations have accesible pdf? 101k\n",
    "filtered_count = allpapers[(allpapers['citationCount'] > 50)]\n",
    "filtered_count['isOpenAccess'].value_counts()"
   ]
  },
  {
   "cell_type": "markdown",
   "metadata": {},
   "source": [
    "## Preparing data for PDF vesions of papers"
   ]
  },
  {
   "cell_type": "code",
   "execution_count": null,
   "metadata": {},
   "outputs": [],
   "source": [
    "# filtered_df is papers with citations more than 10 and open pdf access (double check that link is not nan): 90k\n",
    "filtered_df = filtered_count[(filtered_count['isOpenAccess'] == True) & (~allpapers['openAccessPdf'].isna())]\n",
    "print('N paper with citations >50 and url access:', len(filtered_df))"
   ]
  },
  {
   "cell_type": "code",
   "execution_count": null,
   "metadata": {},
   "outputs": [],
   "source": [
    "filtered_df['pdf_url'] = filtered_df['openAccessPdf'].apply(lambda x: eval(x)['url'])\n",
    "filtered_df['downloaded'] = False\n",
    "filtered_df.to_csv('papers_filtered_citation_access.csv')"
   ]
  },
  {
   "cell_type": "code",
   "execution_count": null,
   "metadata": {},
   "outputs": [],
   "source": [
    "filtered_df['pdf_url'].values[:10]"
   ]
  },
  {
   "cell_type": "code",
   "execution_count": null,
   "metadata": {},
   "outputs": [],
   "source": [
    "filtered_df.columns"
   ]
  },
  {
   "cell_type": "markdown",
   "metadata": {},
   "source": [
    "## Downloading PDFs"
   ]
  },
  {
   "cell_type": "code",
   "execution_count": null,
   "metadata": {},
   "outputs": [],
   "source": [
    "df = pd.read_csv('papers_filtered_citation_access.csv')\n",
    "df.drop(df.columns[[0]], axis=1, inplace=True)\n",
    "len(df)"
   ]
  },
  {
   "cell_type": "code",
   "execution_count": null,
   "metadata": {},
   "outputs": [],
   "source": [
    "df['fieldsOfStudy'] = df['fieldsOfStudy'].apply(lambda x: x.strip(\"[]\").replace(\"'\", \"\").split(\", \") if isinstance(x, str) else x)\n",
    "\n",
    "unique_fields = set()\n",
    "\n",
    "for field_entry in df['fieldsOfStudy']:\n",
    "    if isinstance(field_entry, list):\n",
    "        unique_fields.update(field_entry)\n",
    "unique_fields_list = list(unique_fields)\n",
    "\n",
    "print('How many unique fields are there:', len(unique_fields_list))\n",
    "unique_fields_list"
   ]
  },
  {
   "cell_type": "code",
   "execution_count": null,
   "metadata": {},
   "outputs": [],
   "source": [
    "df['fieldsOfStudy'].values[:10]"
   ]
  },
  {
   "cell_type": "markdown",
   "metadata": {},
   "source": [
    "## Creating table w/ papers for manual evaluation and extraction"
   ]
  },
  {
   "cell_type": "code",
   "execution_count": null,
   "metadata": {},
   "outputs": [],
   "source": [
    "papers_manual_list = []\n",
    "\n",
    "for field in unique_fields_list:\n",
    "    # Filter the DataFrame by the current field of study\n",
    "    filtered_df = df[df['fieldsOfStudy'].apply(lambda x: isinstance(x, list) and field in x)]\n",
    "    \n",
    "    # Select the top 700 rows for each field of study\n",
    "    filtered_df = filtered_df.sort_values(by='citationCount', ascending=False)\n",
    "    filtered_df = filtered_df.head(700)\n",
    "    papers_manual_list.append(filtered_df)\n",
    "\n",
    "papers_manual = pd.concat(papers_manual_list)\n",
    "papers_manual.reset_index(drop=True, inplace=True)"
   ]
  },
  {
   "cell_type": "code",
   "execution_count": null,
   "metadata": {},
   "outputs": [],
   "source": [
    "papers_manual.to_csv('papers_manual.csv')"
   ]
  },
  {
   "cell_type": "markdown",
   "metadata": {},
   "source": [
    "# Scraping all the PDFs"
   ]
  },
  {
   "cell_type": "code",
   "execution_count": null,
   "metadata": {},
   "outputs": [],
   "source": [
    "df = pd.read_csv('papers_filtered_citation_access.csv')\n",
    "df.drop(df.columns[[0]], axis=1, inplace=True)\n",
    "len(df)"
   ]
  },
  {
   "cell_type": "code",
   "execution_count": null,
   "metadata": {},
   "outputs": [],
   "source": [
    "scraped_ids = []\n",
    "\n",
    "with open(\"manual_ids.txt\", \"r\") as file:\n",
    "   for line in file.readlines():\n",
    "       scraped_ids.append(line.replace(\"\\n\",\"\").lower())\n",
    "\n",
    "with open(\"downloaded_ids.txt\", \"r\") as file:\n",
    "   for line in file.readlines():\n",
    "       scraped_ids.append(line.replace(\"\\n\",\"\").lower())   \n",
    "\n",
    "len(scraped_ids)"
   ]
  },
  {
   "cell_type": "code",
   "execution_count": 22,
   "metadata": {},
   "outputs": [],
   "source": [
    "for index, row in df.iterrows():\n",
    "    if row['paperId'] in scraped_ids:\n",
    "        df.at[index, 'downloaded'] = True"
   ]
  },
  {
   "cell_type": "code",
   "execution_count": null,
   "metadata": {},
   "outputs": [],
   "source": [
    "download_dir = 'downloaded_pdfs'\n",
    "if not os.path.exists(download_dir):\n",
    "    os.makedirs(download_dir)"
   ]
  },
  {
   "cell_type": "code",
   "execution_count": null,
   "metadata": {},
   "outputs": [],
   "source": [
    "headers = {\n",
    "    \"User-Agent\": \"Mozilla/5.0 (Windows NT 10.0; Win64; x64) AppleWebKit/537.36 (KHTML, like Gecko) Chrome/58.0.3029.110 Safari/537.3\"\n",
    "}\n",
    "\n",
    "for index, row in tqdm(df[['pdf_url', 'paperId']].iterrows(), total=len(df), desc=\"Downloading PDFs\"):\n",
    "    url = row['pdf_url']\n",
    "    paper_id = row['paperId']\n",
    "    try:\n",
    "        if paper_id in scraped_ids:\n",
    "            continue\n",
    "\n",
    "        response = requests.get(url, headers=headers, timeout=15)\n",
    "        if response.status_code == 200:\n",
    "            # Extract filename from URL\n",
    "            filename = os.path.join(download_dir, f\"paper_{paper_id}.pdf\")\n",
    "            # Write the content to a PDF file\n",
    "            with open(filename, 'wb') as f:\n",
    "                f.write(response.content)\n",
    "            df.at[index, 'downloaded'] = True\n",
    "        elif response.status_code:\n",
    "            df.at[index, 'downloaded'] = bool('Error')\n",
    "        else:\n",
    "            print(f\"An error occurred on row {index}: unknown error.\")\n",
    "            df.at[index, 'downloaded'] = bool('Error')\n",
    "    except requests.Timeout:\n",
    "        print(f\"Request to {url} timed out.\")\n",
    "    except Exception as e:\n",
    "        print(f\"An error occurred on row {index} with URL {url}: {e}\")\n",
    "    finally:\n",
    "        continue"
   ]
  },
  {
   "cell_type": "code",
   "execution_count": null,
   "metadata": {},
   "outputs": [],
   "source": []
  }
 ],
 "metadata": {
  "kernelspec": {
   "display_name": "base",
   "language": "python",
   "name": "python3"
  },
  "language_info": {
   "codemirror_mode": {
    "name": "ipython",
    "version": 3
   },
   "file_extension": ".py",
   "mimetype": "text/x-python",
   "name": "python",
   "nbconvert_exporter": "python",
   "pygments_lexer": "ipython3",
   "version": "3.12.2"
  }
 },
 "nbformat": 4,
 "nbformat_minor": 2
}

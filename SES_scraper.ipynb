{
 "cells": [
  {
   "cell_type": "markdown",
   "id": "7055ea9e",
   "metadata": {},
   "source": [
    "# Scraper for Semantic Scholar (SES)\n",
    "This a scraping tool, that uses the REST APIs of Semantic Scholar to retrieve literature from the platform."
   ]
  },
  {
   "cell_type": "code",
   "execution_count": null,
   "id": "bc32e35f",
   "metadata": {},
   "outputs": [],
   "source": [
    "import requests, json\n",
    "import pandas as pd\n",
    "import numpy as np\n",
    "from tqdm import tqdm\n",
    "import time"
   ]
  },
  {
   "cell_type": "markdown",
   "id": "4b52325d",
   "metadata": {},
   "source": [
    "### Search Parameters"
   ]
  },
  {
   "cell_type": "code",
   "execution_count": null,
   "id": "0a1a1ecc",
   "metadata": {},
   "outputs": [],
   "source": [
    "# search literature published between year_range_start and year_range_end\n",
    "year_range_start = 1950\n",
    "year_range_end = 2024\n",
    "\n",
    "year = str(year_range_start)+\"-\"+str(year_range_end)\n",
    "\n",
    "\n",
    "return_fields =[\"paperId\",\n",
    "                 \"externalIds\", \n",
    "                 \"url\",\n",
    "                 \"title\",\n",
    "                 \"abstract\",\n",
    "                 \"venue\",\n",
    "                 \"publicationVenue\",\n",
    "                 \"year\",\n",
    "                 \"referenceCount\",\n",
    "                 \"citationCount\",\n",
    "                 \"influentialCitationCount\",\n",
    "                 \"isOpenAccess\",\n",
    "                 \"openAccessPdf\",\n",
    "                 \"fieldsOfStudy\",\n",
    "                 \"publicationTypes\",\n",
    "                 \"publicationDate\",\n",
    "                 \"journal\",\n",
    "                 \"citationStyles\",\n",
    "                 \"authors\"]\n",
    "\n",
    "# Keywords for the search\n",
    "keywords = []\n",
    "with open(\"keywords.txt\", \"r\") as file: # change name to the keywords_yourname\n",
    "    for line in file.readlines():\n",
    "        keywords.append(line.replace(\"\\n\",\"\").lower())\n",
    "\n",
    "# Number of requests per keysword\n",
    "requests_per_keyword = 10"
   ]
  },
  {
   "cell_type": "markdown",
   "id": "68bb9f0d",
   "metadata": {},
   "source": [
    "### Changing offset"
   ]
  },
  {
   "cell_type": "code",
   "execution_count": null,
   "id": "aba207ee",
   "metadata": {},
   "outputs": [],
   "source": [
    "# Function to create URL from keyword\n",
    "\n",
    "def create_url_from_keyword(keyword, offset=0):\n",
    "    pre = \"https://api.semanticscholar.org/graph/v1/paper/search?\"\n",
    "    q = \"&query=\" + keyword.replace(\" \", \"+\")\n",
    "    post = \"&offset=\" + str(offset) + \"&limit=100&sort=relevance\"\n",
    "    \n",
    "    if year:\n",
    "        y = \"&year=\" + year\n",
    "    else:\n",
    "        y = \"\"\n",
    "        \n",
    "    if return_fields:\n",
    "        ret = \"&fields=\" + \",\".join(return_fields)\n",
    "    else:\n",
    "        ret = \"\"\n",
    "    \n",
    "    return pre + q + y + post + ret\n",
    "\n",
    "# Function to send requests with rate limiting\n",
    "def send_request(url):\n",
    "    response = requests.get(url)\n",
    "    return response"
   ]
  },
  {
   "cell_type": "markdown",
   "id": "a61ceba3",
   "metadata": {},
   "source": [
    "### Parse Literature"
   ]
  },
  {
   "cell_type": "code",
   "execution_count": null,
   "id": "47fd70d4",
   "metadata": {},
   "outputs": [],
   "source": [
    "results = []\n",
    "seen_paper_ids = set()  \n",
    "sleep_interval = 5 \n",
    "\n",
    "for keyword in tqdm(keywords, desc=\"Keywords Progress\"):\n",
    "    offset = 0\n",
    "\n",
    "    for _ in range(requests_per_keyword):\n",
    "        while True:  \n",
    "            try:\n",
    "                # Construct URL with the current offset\n",
    "                url = create_url_from_keyword(keyword, offset)\n",
    "                \n",
    "                # Send the API request\n",
    "                response = send_request(url)\n",
    "\n",
    "                # Check response status\n",
    "                if response.status_code == 200:\n",
    "                    response_data = response.json()\n",
    "                    for paper in response_data['data']:\n",
    "                        paper_id = paper['paperId']\n",
    "                        # Only add the paper if it hasn't been seen before\n",
    "                        if paper_id not in seen_paper_ids:\n",
    "                            # Add the keyword to the paper\n",
    "                            paper['keyword'] = keyword\n",
    "                            results.append(paper)\n",
    "                            seen_paper_ids.add(paper_id)\n",
    "                    break  # Exit retry loop on success\n",
    "                elif response.status_code == 429 or response.status_code == 504:\n",
    "                    # If HTTP 429 or 504, sleep and retry\n",
    "                    #print(f\"Request for keyword '{keyword}' failed with status code {response.status_code}: {response.text}, retrying in 5 seconds\")\n",
    "                    time.sleep(sleep_interval)\n",
    "                else:\n",
    "                    # If other error, print error and continue with next request\n",
    "                    print(f\"Request for keyword '{keyword}' failed with status code {response.status_code}: {response.text}\")\n",
    "                    break\n",
    "                \n",
    "            except Exception as e:\n",
    "                print(f\"An error occurred: {e}\")\n",
    "                time.sleep(sleep_interval)\n",
    "        \n",
    "        offset += 100"
   ]
  },
  {
   "cell_type": "markdown",
   "id": "7858e4d0",
   "metadata": {},
   "source": [
    "### Clean results and prepare output"
   ]
  },
  {
   "cell_type": "code",
   "execution_count": null,
   "id": "2b432fd3",
   "metadata": {},
   "outputs": [],
   "source": [
    "len(results)"
   ]
  },
  {
   "cell_type": "code",
   "execution_count": null,
   "id": "7bcf1680",
   "metadata": {},
   "outputs": [],
   "source": [
    "df = pd.DataFrame(results)"
   ]
  },
  {
   "cell_type": "code",
   "execution_count": null,
   "id": "3a9a0d09",
   "metadata": {},
   "outputs": [],
   "source": [
    "# creates string out of dict of authors\n",
    "def get_authors(dic):\n",
    "    ret = \"\"\n",
    "    for i, p in enumerate(dic):\n",
    "        if i==0:\n",
    "            ret = p[\"name\"]\n",
    "        else: \n",
    "            ret = ret+\", \"+p[\"name\"]\n",
    "    return ret"
   ]
  },
  {
   "cell_type": "code",
   "execution_count": null,
   "id": "06715294",
   "metadata": {},
   "outputs": [],
   "source": [
    "# add clear authors column\n",
    "df[\"authors_clear\"] = df.apply(lambda row: get_authors(row[\"authors\"]) , axis=1)"
   ]
  }
 ],
 "metadata": {
  "kernelspec": {
   "display_name": "Python 3 (ipykernel)",
   "language": "python",
   "name": "python3"
  },
  "language_info": {
   "codemirror_mode": {
    "name": "ipython",
    "version": 3
   },
   "file_extension": ".py",
   "mimetype": "text/x-python",
   "name": "python",
   "nbconvert_exporter": "python",
   "pygments_lexer": "ipython3",
   "version": "3.9.16"
  }
 },
 "nbformat": 4,
 "nbformat_minor": 5
}
